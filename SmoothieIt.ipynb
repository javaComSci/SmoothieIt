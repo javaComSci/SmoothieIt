{
 "cells": [
  {
   "cell_type": "code",
   "execution_count": 1,
   "metadata": {},
   "outputs": [],
   "source": [
    "import tensorflow as tf\n",
    "import cv2\n",
    "import numpy as np\n",
    "import os\n",
    "from tensorflow import keras"
   ]
  },
  {
   "cell_type": "code",
   "execution_count": 2,
   "metadata": {},
   "outputs": [],
   "source": [
    "def getFlatImg(fileName):\n",
    "    # list all the pictures under that directory\n",
    "    fruitPics = os.listdir(fileName)\n",
    "    allFruitPics = []\n",
    "    for fruitPic in fruitPics:\n",
    "        img = cv2.imread(os.path.join(fileName, fruitPic))/255.0\n",
    "        img = img.flatten()\n",
    "        img = img.reshape((1, img.shape[0]))\n",
    "        allFruitPics.append(img)   \n",
    "    allFruitPics = np.vstack(allFruitPics)\n",
    "    return allFruitPics\n",
    "\n",
    "def getImg(imgType):\n",
    "    fruitTypes = os.listdir(imgType)\n",
    "    fruitTypes = [fruit for fruit in fruitTypes if fruit[0] != '.']\n",
    "    count = 0\n",
    "    inputs = []\n",
    "    outputs = []\n",
    "    for fruitType in fruitTypes:\n",
    "        # for the 25 fruit types\n",
    "        fruitInput = getFlatImg(os.path.join(imgType, fruitType))\n",
    "        inputs.append(fruitInput)\n",
    "        fruitOutput = np.ones((fruitInput.shape[0], 1)) * count\n",
    "        outputs.append(fruitOutput)\n",
    "        count += 1\n",
    "    inputs = np.vstack(inputs)\n",
    "    outputs = np.vstack(outputs)\n",
    "    print(\"INPUTS\",  inputs.shape, inputs)\n",
    "    print(\"OUTPUTS\", outputs.shape, outputs)\n",
    "    return (inputs, outputs)\n",
    "    \n",
    "def getTrainingImg():\n",
    "    return getImg('fruits-360/Training/')\n",
    "    \n",
    "def getTestingImg():\n",
    "    return getImg('fruits-360/Testing/')"
   ]
  },
  {
   "cell_type": "code",
   "execution_count": 3,
   "metadata": {},
   "outputs": [
    {
     "name": "stdout",
     "output_type": "stream",
     "text": [
      "INPUTS (13116, 30000) [[1.         1.         1.         ... 1.         1.         1.        ]\n",
      " [1.         1.         1.         ... 1.         1.         1.        ]\n",
      " [1.         1.         1.         ... 1.         1.         1.        ]\n",
      " ...\n",
      " [0.98823529 0.99215686 1.         ... 1.         1.         1.        ]\n",
      " [1.         1.         1.         ... 1.         1.         1.        ]\n",
      " [0.98431373 0.98431373 1.         ... 1.         1.         1.        ]]\n",
      "OUTPUTS (13116, 1) [[ 0.]\n",
      " [ 0.]\n",
      " [ 0.]\n",
      " ...\n",
      " [24.]\n",
      " [24.]\n",
      " [24.]]\n",
      "INPUTS (4401, 30000) [[1.         0.99607843 1.         ... 1.         1.         1.        ]\n",
      " [1.         1.         1.         ... 1.         1.         1.        ]\n",
      " [1.         0.99607843 1.         ... 1.         1.         1.        ]\n",
      " ...\n",
      " [1.         1.         0.99607843 ... 1.         1.         1.        ]\n",
      " [0.98039216 1.         0.98431373 ... 1.         1.         1.        ]\n",
      " [0.98431373 1.         0.96862745 ... 1.         1.         1.        ]]\n",
      "OUTPUTS (4401, 1) [[ 0.]\n",
      " [ 0.]\n",
      " [ 0.]\n",
      " ...\n",
      " [24.]\n",
      " [24.]\n",
      " [24.]]\n"
     ]
    }
   ],
   "source": [
    "trainInput, trainOutput = getTrainingImg()\n",
    "testInput, testOutput = getTestingImg()"
   ]
  },
  {
   "cell_type": "code",
   "execution_count": null,
   "metadata": {},
   "outputs": [
    {
     "name": "stdout",
     "output_type": "stream",
     "text": [
      "Epoch 1/5\n"
     ]
    }
   ],
   "source": [
    "model = keras.Sequential([\n",
    "    keras.layers.Dense(250, activation=tf.nn.relu),\n",
    "    keras.layers.Dense(25, activation=tf.nn.softmax)\n",
    "])\n",
    "model.compile(optimizer=tf.train.AdamOptimizer(),\n",
    "             loss='sparse_categorical_crossentropy',\n",
    "             metrics=['accuracy'])\n",
    "model.fit(trainInput, trainOutput, epochs=5)"
   ]
  },
  {
   "cell_type": "code",
   "execution_count": null,
   "metadata": {},
   "outputs": [],
   "source": []
  },
  {
   "cell_type": "code",
   "execution_count": null,
   "metadata": {},
   "outputs": [],
   "source": []
  }
 ],
 "metadata": {
  "kernelspec": {
   "display_name": "Python 3",
   "language": "python",
   "name": "python3"
  },
  "language_info": {
   "codemirror_mode": {
    "name": "ipython",
    "version": 3
   },
   "file_extension": ".py",
   "mimetype": "text/x-python",
   "name": "python",
   "nbconvert_exporter": "python",
   "pygments_lexer": "ipython3",
   "version": "3.6.7"
  }
 },
 "nbformat": 4,
 "nbformat_minor": 2
}
