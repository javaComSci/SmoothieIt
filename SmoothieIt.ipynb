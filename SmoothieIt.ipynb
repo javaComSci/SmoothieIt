{
 "cells": [
  {
   "cell_type": "code",
   "execution_count": 77,
   "metadata": {},
   "outputs": [],
   "source": [
    "import tensorflow as tf\n",
    "import cv2\n",
    "import numpy as np\n",
    "import os"
   ]
  },
  {
   "cell_type": "code",
   "execution_count": 129,
   "metadata": {},
   "outputs": [],
   "source": [
    "def getFlatImg(fileName):\n",
    "    # list all the pictures under that directory\n",
    "    fruitPics = os.listdir(fileName)\n",
    "    allFruitPics = []\n",
    "    for fruitPic in fruitPics:\n",
    "        img = cv2.imread(os.path.join(fileName, fruitPic))\n",
    "        img = img.flatten()\n",
    "        img = img.reshape((1, img.shape[0]))\n",
    "        allFruitPics.append(img)   \n",
    "    allFruitPics = np.vstack(allFruitPics)\n",
    "    return allFruitPics\n",
    "\n",
    "def getImg(imgType):\n",
    "    fruitTypes = os.listdir(imgType)\n",
    "    fruitTypes = [fruit for fruit in fruitTypes if fruit[0] != '.']\n",
    "    count = 0\n",
    "    inputs = []\n",
    "    outputs = []\n",
    "    for fruitType in fruitTypes:\n",
    "        # for the 25 fruit types\n",
    "        fruitInput = getFlatImg(os.path.join(imgType, fruitType))\n",
    "        inputs.append(fruitInput)\n",
    "        fruitOutput = np.ones((fruitInput.shape[0], 1)) * count\n",
    "        outputs.append(fruitOutput)\n",
    "        count += 1\n",
    "    inputs = np.vstack(inputs)\n",
    "    outputs = np.vstack(outputs)\n",
    "    print(inputs)\n",
    "    print(outputs)\n",
    "    \n",
    "def getTrainingImg():\n",
    "    return getImg('fruits-360/Training/')\n",
    "    \n",
    "def getTestingImg():\n",
    "    return getImg('fruits-350/Testing/')"
   ]
  },
  {
   "cell_type": "code",
   "execution_count": 130,
   "metadata": {},
   "outputs": [
    {
     "name": "stdout",
     "output_type": "stream",
     "text": [
      "[[255 254 255 ... 255 255 255]\n",
      " [255 255 255 ... 255 255 255]\n",
      " [255 254 255 ... 255 255 255]\n",
      " ...\n",
      " [255 255 254 ... 255 255 255]\n",
      " [250 255 251 ... 255 255 255]\n",
      " [251 255 247 ... 255 255 255]]\n",
      "[[ 0.]\n",
      " [ 0.]\n",
      " [ 0.]\n",
      " ...\n",
      " [24.]\n",
      " [24.]\n",
      " [24.]]\n"
     ]
    }
   ],
   "source": [
    "getTrainingImg()"
   ]
  },
  {
   "cell_type": "code",
   "execution_count": null,
   "metadata": {},
   "outputs": [],
   "source": []
  }
 ],
 "metadata": {
  "kernelspec": {
   "display_name": "Python 3",
   "language": "python",
   "name": "python3"
  },
  "language_info": {
   "codemirror_mode": {
    "name": "ipython",
    "version": 3
   },
   "file_extension": ".py",
   "mimetype": "text/x-python",
   "name": "python",
   "nbconvert_exporter": "python",
   "pygments_lexer": "ipython3",
   "version": "3.6.7"
  }
 },
 "nbformat": 4,
 "nbformat_minor": 2
}
